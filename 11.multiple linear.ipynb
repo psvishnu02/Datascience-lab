{
 "cells": [
  {
   "cell_type": "code",
   "execution_count": 4,
   "id": "6a199458-900d-4b06-8655-f5f8fc02ac11",
   "metadata": {},
   "outputs": [
    {
     "name": "stdout",
     "output_type": "stream",
     "text": [
      "Multiple Linear Regression MSE: 0.03711379440797686\n"
     ]
    }
   ],
   "source": [
    "# Import necessary libraries \n",
    "import numpy as np \n",
    "import pandas as pd \n",
    "from sklearn.datasets import load_iris \n",
    "from sklearn.model_selection import train_test_split \n",
    "from sklearn.linear_model import LinearRegression \n",
    "from sklearn.metrics import mean_squared_error \n",
    "data = load_iris() \n",
    "X = data.data \n",
    "y = data.target \n",
    "# Split the dataset into training and testing sets\n",
    "X_train, X_test, y_train, y_test = train_test_split(X, y, test_size=0.2, random_state=42)\n",
    "# Multiple Linear Regression\n",
    "mlr_model = LinearRegression()\n",
    "mlr_model.fit(X_train, y_train)\n",
    "mlr_predictions = mlr_model.predict(X_test)\n",
    "mlr_mse = mean_squared_error(y_test, mlr_predictions)\n",
    "# Print the Mean Squared Error (MSE) for Multiple Linear Regression\n",
    "print(f'Multiple Linear Regression MSE: {mlr_mse}')"
   ]
  },
  {
   "cell_type": "code",
   "execution_count": null,
   "id": "658e7da3-631d-4c67-b483-5fc024d5d5a7",
   "metadata": {},
   "outputs": [],
   "source": []
  }
 ],
 "metadata": {
  "kernelspec": {
   "display_name": "Python 3 (ipykernel)",
   "language": "python",
   "name": "python3"
  },
  "language_info": {
   "codemirror_mode": {
    "name": "ipython",
    "version": 3
   },
   "file_extension": ".py",
   "mimetype": "text/x-python",
   "name": "python",
   "nbconvert_exporter": "python",
   "pygments_lexer": "ipython3",
   "version": "3.10.12"
  }
 },
 "nbformat": 4,
 "nbformat_minor": 5
}

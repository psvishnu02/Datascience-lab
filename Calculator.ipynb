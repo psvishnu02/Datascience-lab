{
 "cells": [
  {
   "cell_type": "code",
   "execution_count": 3,
   "id": "91a6178c-9a6e-45f5-8f22-b72f7c490826",
   "metadata": {},
   "outputs": [
    {
     "name": "stdin",
     "output_type": "stream",
     "text": [
      "enter the first number: 5\n",
      "enter the second number: 6\n"
     ]
    },
    {
     "name": "stdout",
     "output_type": "stream",
     "text": [
      "enter the option\n",
      "1.addition\n",
      "2.multiplication\n",
      "3.division\n",
      "4.substraction\n"
     ]
    },
    {
     "name": "stdin",
     "output_type": "stream",
     "text": [
      "option is: 2\n"
     ]
    },
    {
     "name": "stdout",
     "output_type": "stream",
     "text": [
      "ans is: 30.00\n"
     ]
    }
   ],
   "source": [
    "a=float(input(\"enter the first number:\"))\n",
    "b=float(input(\"enter the second number:\"))\n",
    "print(\"enter the option\")\n",
    "print(\"1.addition\")\n",
    "print(\"2.multiplication\")\n",
    "print(\"3.division\")\n",
    "print(\"4.substraction\")\n",
    "opt=int(input(\"option is:\"))\n",
    "if(opt==1):\n",
    "    print(\"ans is: %.2f\"%(a+b))\n",
    "elif(opt==2):\n",
    "    print(\"ans is: %.2f\"%(a*b))\n",
    "elif(opt==3):\n",
    "    if(b==0):\n",
    "        print(\"invalid operation\")\n",
    "    else:\n",
    "        print(\"ans is: %.2f\"%(a/b))    \n",
    "elif(opt==4):\n",
    "    print(\"ans is: %.2f\"%(a-b))\n",
    "else:\n",
    "    print(\"you have entered a wrong option\")"
   ]
  },
  {
   "cell_type": "code",
   "execution_count": null,
   "id": "980587ed-b21f-467c-9493-fdc1d03d4b7a",
   "metadata": {},
   "outputs": [],
   "source": []
  },
  {
   "cell_type": "code",
   "execution_count": null,
   "id": "a79fa0d0-bc26-4336-b8f1-6ef9f9c3b32d",
   "metadata": {},
   "outputs": [],
   "source": []
  }
 ],
 "metadata": {
  "kernelspec": {
   "display_name": "Python 3 (ipykernel)",
   "language": "python",
   "name": "python3"
  },
  "language_info": {
   "codemirror_mode": {
    "name": "ipython",
    "version": 3
   },
   "file_extension": ".py",
   "mimetype": "text/x-python",
   "name": "python",
   "nbconvert_exporter": "python",
   "pygments_lexer": "ipython3",
   "version": "3.10.12"
  }
 },
 "nbformat": 4,
 "nbformat_minor": 5
}

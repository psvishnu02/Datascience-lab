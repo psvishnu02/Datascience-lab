{
 "cells": [
  {
   "cell_type": "code",
   "execution_count": 3,
   "id": "34e88917-66b4-49f5-9e72-d2c9aa201196",
   "metadata": {},
   "outputs": [
    {
     "name": "stdout",
     "output_type": "stream",
     "text": [
      "addition:\n",
      "[[ 6  8]\n",
      " [10 12]]\n",
      "substraction:\n",
      "[[-4 -4]\n",
      " [-4 -4]]\n",
      "element wise multiplication\n",
      "[[ 5 12]\n",
      " [21 32]]\n",
      "multiplication:\n",
      "[[19 22]\n",
      " [43 50]]\n",
      "transpose:\n",
      "[[1 3]\n",
      " [2 4]]\n"
     ]
    }
   ],
   "source": [
    "import numpy as np\n",
    "a=np.array([[1,2],[3,4]])\n",
    "b=np.array([[5,6],[7,8]])\n",
    "c=a+b\n",
    "d=a-b\n",
    "e=a*b\n",
    "f=np.dot(a,b)\n",
    "a_transpose=a.T\n",
    "print(\"addition:\")\n",
    "print(c)\n",
    "print(\"substraction:\")\n",
    "print(d)\n",
    "print(\"element wise multiplication:\")\n",
    "print(e)\n",
    "print(\"multiplication:\")\n",
    "print(f)\n",
    "print(\"transpose:\")\n",
    "print(a_transpose)\n"
   ]
  },
  {
   "cell_type": "code",
   "execution_count": null,
   "id": "5c78f32b-5b8c-48a5-924b-09703c259b9b",
   "metadata": {},
   "outputs": [],
   "source": []
  }
 ],
 "metadata": {
  "kernelspec": {
   "display_name": "Python 3 (ipykernel)",
   "language": "python",
   "name": "python3"
  },
  "language_info": {
   "codemirror_mode": {
    "name": "ipython",
    "version": 3
   },
   "file_extension": ".py",
   "mimetype": "text/x-python",
   "name": "python",
   "nbconvert_exporter": "python",
   "pygments_lexer": "ipython3",
   "version": "3.10.12"
  }
 },
 "nbformat": 4,
 "nbformat_minor": 5
}
